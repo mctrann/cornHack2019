{
 "cells": [
  {
   "cell_type": "code",
   "execution_count": 1,
   "metadata": {},
   "outputs": [],
   "source": [
    "import category_encoders as ce\n",
    "import numpy as np\n",
    "import pandas as pd\n",
    "from sklearn import preprocessing\n",
    "from sklearn.utils import shuffle\n",
    "import math\n",
    "from sklearn.svm import SVC\n",
    "from sklearn.model_selection import train_test_split\n",
    "from sklearn.model_selection import KFold"
   ]
  },
  {
   "cell_type": "code",
   "execution_count": 2,
   "metadata": {},
   "outputs": [
    {
     "name": "stderr",
     "output_type": "stream",
     "text": [
      "C:\\ProgramData\\Anaconda3\\lib\\site-packages\\IPython\\core\\interactiveshell.py:3020: DtypeWarning: Columns (10) have mixed types. Specify dtype option on import or set low_memory=False.\n",
      "  interactivity=interactivity, compiler=compiler, result=result)\n"
     ]
    }
   ],
   "source": [
    "X = pd.read_csv('Data/Hospital_Inpatient_Discharges__SPARCS_De-Identified___20153.csv')"
   ]
  },
  {
   "cell_type": "code",
   "execution_count": 3,
   "metadata": {},
   "outputs": [
    {
     "data": {
      "text/plain": [
       "(11733, 37)"
      ]
     },
     "execution_count": 3,
     "metadata": {},
     "output_type": "execute_result"
    }
   ],
   "source": [
    "df = shuffle(X)\n",
    "X = df[:(int(df.shape[0]/200))]\n",
    "X.shape"
   ]
  },
  {
   "cell_type": "code",
   "execution_count": 4,
   "metadata": {},
   "outputs": [
    {
     "name": "stderr",
     "output_type": "stream",
     "text": [
      "C:\\ProgramData\\Anaconda3\\lib\\site-packages\\ipykernel_launcher.py:1: SettingWithCopyWarning: \n",
      "A value is trying to be set on a copy of a slice from a DataFrame.\n",
      "Try using .loc[row_indexer,col_indexer] = value instead\n",
      "\n",
      "See the caveats in the documentation: http://pandas.pydata.org/pandas-docs/stable/indexing.html#indexing-view-versus-copy\n",
      "  \"\"\"Entry point for launching an IPython kernel.\n",
      "C:\\ProgramData\\Anaconda3\\lib\\site-packages\\ipykernel_launcher.py:2: SettingWithCopyWarning: \n",
      "A value is trying to be set on a copy of a slice from a DataFrame.\n",
      "Try using .loc[row_indexer,col_indexer] = value instead\n",
      "\n",
      "See the caveats in the documentation: http://pandas.pydata.org/pandas-docs/stable/indexing.html#indexing-view-versus-copy\n",
      "  \n",
      "C:\\ProgramData\\Anaconda3\\lib\\site-packages\\ipykernel_launcher.py:3: SettingWithCopyWarning: \n",
      "A value is trying to be set on a copy of a slice from a DataFrame.\n",
      "Try using .loc[row_indexer,col_indexer] = value instead\n",
      "\n",
      "See the caveats in the documentation: http://pandas.pydata.org/pandas-docs/stable/indexing.html#indexing-view-versus-copy\n",
      "  This is separate from the ipykernel package so we can avoid doing imports until\n",
      "C:\\ProgramData\\Anaconda3\\lib\\site-packages\\ipykernel_launcher.py:4: SettingWithCopyWarning: \n",
      "A value is trying to be set on a copy of a slice from a DataFrame.\n",
      "Try using .loc[row_indexer,col_indexer] = value instead\n",
      "\n",
      "See the caveats in the documentation: http://pandas.pydata.org/pandas-docs/stable/indexing.html#indexing-view-versus-copy\n",
      "  after removing the cwd from sys.path.\n",
      "C:\\ProgramData\\Anaconda3\\lib\\site-packages\\ipykernel_launcher.py:5: SettingWithCopyWarning: \n",
      "A value is trying to be set on a copy of a slice from a DataFrame.\n",
      "Try using .loc[row_indexer,col_indexer] = value instead\n",
      "\n",
      "See the caveats in the documentation: http://pandas.pydata.org/pandas-docs/stable/indexing.html#indexing-view-versus-copy\n",
      "  \"\"\"\n",
      "C:\\ProgramData\\Anaconda3\\lib\\site-packages\\ipykernel_launcher.py:6: SettingWithCopyWarning: \n",
      "A value is trying to be set on a copy of a slice from a DataFrame.\n",
      "Try using .loc[row_indexer,col_indexer] = value instead\n",
      "\n",
      "See the caveats in the documentation: http://pandas.pydata.org/pandas-docs/stable/indexing.html#indexing-view-versus-copy\n",
      "  \n",
      "C:\\ProgramData\\Anaconda3\\lib\\site-packages\\ipykernel_launcher.py:7: SettingWithCopyWarning: \n",
      "A value is trying to be set on a copy of a slice from a DataFrame.\n",
      "Try using .loc[row_indexer,col_indexer] = value instead\n",
      "\n",
      "See the caveats in the documentation: http://pandas.pydata.org/pandas-docs/stable/indexing.html#indexing-view-versus-copy\n",
      "  import sys\n",
      "C:\\ProgramData\\Anaconda3\\lib\\site-packages\\ipykernel_launcher.py:8: SettingWithCopyWarning: \n",
      "A value is trying to be set on a copy of a slice from a DataFrame.\n",
      "Try using .loc[row_indexer,col_indexer] = value instead\n",
      "\n",
      "See the caveats in the documentation: http://pandas.pydata.org/pandas-docs/stable/indexing.html#indexing-view-versus-copy\n",
      "  \n"
     ]
    }
   ],
   "source": [
    "X[\"Total Costs\"] = X[\"Total Costs\"].str.replace('$', '')\n",
    "X[\"Total Charges\"] = X[\"Total Charges\"].str.replace('$', '')\n",
    "X[\"Total Costs\"] = X[\"Total Costs\"].str.replace(',', '')\n",
    "X[\"Total Charges\"] = X[\"Total Charges\"].str.replace(',', '')\n",
    "X[\"Total Charges\"] = X[\"Total Charges\"].astype(float)\n",
    "X[\"Total Costs\"] = X[\"Total Costs\"].astype(float)\n",
    "X[\"Length of Stay\"] = X[\"Length of Stay\"].str.replace(\"+\", \"\")\n",
    "X[\"Length of Stay\"] = X[\"Length of Stay\"].astype(float)"
   ]
  },
  {
   "cell_type": "code",
   "execution_count": 5,
   "metadata": {},
   "outputs": [
    {
     "name": "stderr",
     "output_type": "stream",
     "text": [
      "C:\\ProgramData\\Anaconda3\\lib\\site-packages\\pandas\\core\\frame.py:3697: SettingWithCopyWarning: \n",
      "A value is trying to be set on a copy of a slice from a DataFrame\n",
      "\n",
      "See the caveats in the documentation: http://pandas.pydata.org/pandas-docs/stable/indexing.html#indexing-view-versus-copy\n",
      "  errors=errors)\n"
     ]
    }
   ],
   "source": [
    "X.drop(['APR Severity of Illness Description'], axis=1, inplace = True)"
   ]
  },
  {
   "cell_type": "code",
   "execution_count": 6,
   "metadata": {},
   "outputs": [],
   "source": [
    "new_read_data = X.select_dtypes(include=[object])\n",
    "new_read_data.drop(['APR Risk of Mortality'], axis=1, inplace = True)"
   ]
  },
  {
   "cell_type": "code",
   "execution_count": 7,
   "metadata": {},
   "outputs": [
    {
     "data": {
      "text/html": [
       "<div>\n",
       "<style scoped>\n",
       "    .dataframe tbody tr th:only-of-type {\n",
       "        vertical-align: middle;\n",
       "    }\n",
       "\n",
       "    .dataframe tbody tr th {\n",
       "        vertical-align: top;\n",
       "    }\n",
       "\n",
       "    .dataframe thead th {\n",
       "        text-align: right;\n",
       "    }\n",
       "</style>\n",
       "<table border=\"1\" class=\"dataframe\">\n",
       "  <thead>\n",
       "    <tr style=\"text-align: right;\">\n",
       "      <th></th>\n",
       "      <th>Health Service Area_Hudson Valley</th>\n",
       "      <th>Health Service Area_Western NY</th>\n",
       "      <th>Health Service Area_Long Island</th>\n",
       "      <th>Health Service Area_New York City</th>\n",
       "      <th>Health Service Area_nan</th>\n",
       "      <th>Health Service Area_Central NY</th>\n",
       "      <th>Health Service Area_Capital/Adiron</th>\n",
       "      <th>Health Service Area_Finger Lakes</th>\n",
       "      <th>Health Service Area_Southern Tier</th>\n",
       "      <th>Hospital County_Orange</th>\n",
       "      <th>...</th>\n",
       "      <th>Payment Typology 3_Medicare</th>\n",
       "      <th>Payment Typology 3_Private Health Insurance</th>\n",
       "      <th>Payment Typology 3_Federal/State/Local/VA</th>\n",
       "      <th>Payment Typology 3_Unknown</th>\n",
       "      <th>Payment Typology 3_Managed Care, Unspecified</th>\n",
       "      <th>Payment Typology 3_Miscellaneous/Other</th>\n",
       "      <th>Abortion Edit Indicator_N</th>\n",
       "      <th>Abortion Edit Indicator_Y</th>\n",
       "      <th>Emergency Department Indicator_N</th>\n",
       "      <th>Emergency Department Indicator_Y</th>\n",
       "    </tr>\n",
       "  </thead>\n",
       "  <tbody>\n",
       "    <tr>\n",
       "      <th>704705</th>\n",
       "      <td>1</td>\n",
       "      <td>0</td>\n",
       "      <td>0</td>\n",
       "      <td>0</td>\n",
       "      <td>0</td>\n",
       "      <td>0</td>\n",
       "      <td>0</td>\n",
       "      <td>0</td>\n",
       "      <td>0</td>\n",
       "      <td>1</td>\n",
       "      <td>...</td>\n",
       "      <td>0</td>\n",
       "      <td>0</td>\n",
       "      <td>0</td>\n",
       "      <td>0</td>\n",
       "      <td>0</td>\n",
       "      <td>0</td>\n",
       "      <td>1</td>\n",
       "      <td>0</td>\n",
       "      <td>1</td>\n",
       "      <td>0</td>\n",
       "    </tr>\n",
       "    <tr>\n",
       "      <th>82312</th>\n",
       "      <td>0</td>\n",
       "      <td>1</td>\n",
       "      <td>0</td>\n",
       "      <td>0</td>\n",
       "      <td>0</td>\n",
       "      <td>0</td>\n",
       "      <td>0</td>\n",
       "      <td>0</td>\n",
       "      <td>0</td>\n",
       "      <td>0</td>\n",
       "      <td>...</td>\n",
       "      <td>0</td>\n",
       "      <td>0</td>\n",
       "      <td>0</td>\n",
       "      <td>0</td>\n",
       "      <td>0</td>\n",
       "      <td>0</td>\n",
       "      <td>1</td>\n",
       "      <td>0</td>\n",
       "      <td>1</td>\n",
       "      <td>0</td>\n",
       "    </tr>\n",
       "    <tr>\n",
       "      <th>2083359</th>\n",
       "      <td>0</td>\n",
       "      <td>0</td>\n",
       "      <td>1</td>\n",
       "      <td>0</td>\n",
       "      <td>0</td>\n",
       "      <td>0</td>\n",
       "      <td>0</td>\n",
       "      <td>0</td>\n",
       "      <td>0</td>\n",
       "      <td>0</td>\n",
       "      <td>...</td>\n",
       "      <td>0</td>\n",
       "      <td>0</td>\n",
       "      <td>0</td>\n",
       "      <td>0</td>\n",
       "      <td>0</td>\n",
       "      <td>0</td>\n",
       "      <td>1</td>\n",
       "      <td>0</td>\n",
       "      <td>1</td>\n",
       "      <td>0</td>\n",
       "    </tr>\n",
       "    <tr>\n",
       "      <th>1680565</th>\n",
       "      <td>0</td>\n",
       "      <td>0</td>\n",
       "      <td>0</td>\n",
       "      <td>1</td>\n",
       "      <td>0</td>\n",
       "      <td>0</td>\n",
       "      <td>0</td>\n",
       "      <td>0</td>\n",
       "      <td>0</td>\n",
       "      <td>0</td>\n",
       "      <td>...</td>\n",
       "      <td>0</td>\n",
       "      <td>0</td>\n",
       "      <td>0</td>\n",
       "      <td>0</td>\n",
       "      <td>0</td>\n",
       "      <td>0</td>\n",
       "      <td>1</td>\n",
       "      <td>0</td>\n",
       "      <td>1</td>\n",
       "      <td>0</td>\n",
       "    </tr>\n",
       "    <tr>\n",
       "      <th>2275025</th>\n",
       "      <td>0</td>\n",
       "      <td>0</td>\n",
       "      <td>1</td>\n",
       "      <td>0</td>\n",
       "      <td>0</td>\n",
       "      <td>0</td>\n",
       "      <td>0</td>\n",
       "      <td>0</td>\n",
       "      <td>0</td>\n",
       "      <td>0</td>\n",
       "      <td>...</td>\n",
       "      <td>0</td>\n",
       "      <td>0</td>\n",
       "      <td>0</td>\n",
       "      <td>0</td>\n",
       "      <td>0</td>\n",
       "      <td>0</td>\n",
       "      <td>1</td>\n",
       "      <td>0</td>\n",
       "      <td>0</td>\n",
       "      <td>1</td>\n",
       "    </tr>\n",
       "  </tbody>\n",
       "</table>\n",
       "<p>5 rows × 1180 columns</p>\n",
       "</div>"
      ],
      "text/plain": [
       "         Health Service Area_Hudson Valley  Health Service Area_Western NY  \\\n",
       "704705                                   1                               0   \n",
       "82312                                    0                               1   \n",
       "2083359                                  0                               0   \n",
       "1680565                                  0                               0   \n",
       "2275025                                  0                               0   \n",
       "\n",
       "         Health Service Area_Long Island  Health Service Area_New York City  \\\n",
       "704705                                 0                                  0   \n",
       "82312                                  0                                  0   \n",
       "2083359                                1                                  0   \n",
       "1680565                                0                                  1   \n",
       "2275025                                1                                  0   \n",
       "\n",
       "         Health Service Area_nan  Health Service Area_Central NY  \\\n",
       "704705                         0                               0   \n",
       "82312                          0                               0   \n",
       "2083359                        0                               0   \n",
       "1680565                        0                               0   \n",
       "2275025                        0                               0   \n",
       "\n",
       "         Health Service Area_Capital/Adiron  Health Service Area_Finger Lakes  \\\n",
       "704705                                    0                                 0   \n",
       "82312                                     0                                 0   \n",
       "2083359                                   0                                 0   \n",
       "1680565                                   0                                 0   \n",
       "2275025                                   0                                 0   \n",
       "\n",
       "         Health Service Area_Southern Tier  Hospital County_Orange  \\\n",
       "704705                                   0                       1   \n",
       "82312                                    0                       0   \n",
       "2083359                                  0                       0   \n",
       "1680565                                  0                       0   \n",
       "2275025                                  0                       0   \n",
       "\n",
       "                       ...                 Payment Typology 3_Medicare  \\\n",
       "704705                 ...                                           0   \n",
       "82312                  ...                                           0   \n",
       "2083359                ...                                           0   \n",
       "1680565                ...                                           0   \n",
       "2275025                ...                                           0   \n",
       "\n",
       "         Payment Typology 3_Private Health Insurance  \\\n",
       "704705                                             0   \n",
       "82312                                              0   \n",
       "2083359                                            0   \n",
       "1680565                                            0   \n",
       "2275025                                            0   \n",
       "\n",
       "         Payment Typology 3_Federal/State/Local/VA  \\\n",
       "704705                                           0   \n",
       "82312                                            0   \n",
       "2083359                                          0   \n",
       "1680565                                          0   \n",
       "2275025                                          0   \n",
       "\n",
       "         Payment Typology 3_Unknown  \\\n",
       "704705                            0   \n",
       "82312                             0   \n",
       "2083359                           0   \n",
       "1680565                           0   \n",
       "2275025                           0   \n",
       "\n",
       "         Payment Typology 3_Managed Care, Unspecified  \\\n",
       "704705                                              0   \n",
       "82312                                               0   \n",
       "2083359                                             0   \n",
       "1680565                                             0   \n",
       "2275025                                             0   \n",
       "\n",
       "         Payment Typology 3_Miscellaneous/Other  Abortion Edit Indicator_N  \\\n",
       "704705                                        0                          1   \n",
       "82312                                         0                          1   \n",
       "2083359                                       0                          1   \n",
       "1680565                                       0                          1   \n",
       "2275025                                       0                          1   \n",
       "\n",
       "         Abortion Edit Indicator_Y  Emergency Department Indicator_N  \\\n",
       "704705                           0                                 1   \n",
       "82312                            0                                 1   \n",
       "2083359                          0                                 1   \n",
       "1680565                          0                                 1   \n",
       "2275025                          0                                 0   \n",
       "\n",
       "         Emergency Department Indicator_Y  \n",
       "704705                                  0  \n",
       "82312                                   0  \n",
       "2083359                                 0  \n",
       "1680565                                 0  \n",
       "2275025                                 1  \n",
       "\n",
       "[5 rows x 1180 columns]"
      ]
     },
     "execution_count": 7,
     "metadata": {},
     "output_type": "execute_result"
    }
   ],
   "source": [
    "ohe = ce.OneHotEncoder(handle_unknown='ignore', use_cat_names=True)\n",
    "X_ohe = ohe.fit_transform(new_read_data)\n",
    "X_ohe.head()"
   ]
  },
  {
   "cell_type": "code",
   "execution_count": 8,
   "metadata": {},
   "outputs": [
    {
     "name": "stderr",
     "output_type": "stream",
     "text": [
      "C:\\ProgramData\\Anaconda3\\lib\\site-packages\\pandas\\core\\generic.py:5434: SettingWithCopyWarning: \n",
      "A value is trying to be set on a copy of a slice from a DataFrame\n",
      "\n",
      "See the caveats in the documentation: http://pandas.pydata.org/pandas-docs/stable/indexing.html#indexing-view-versus-copy\n",
      "  self._update_inplace(new_data)\n"
     ]
    }
   ],
   "source": [
    "y = X['Length of Stay']\n",
    "y.fillna(0, inplace=True)"
   ]
  },
  {
   "cell_type": "code",
   "execution_count": 9,
   "metadata": {},
   "outputs": [
    {
     "name": "stderr",
     "output_type": "stream",
     "text": [
      "C:\\ProgramData\\Anaconda3\\lib\\site-packages\\pandas\\core\\generic.py:5890: SettingWithCopyWarning: \n",
      "A value is trying to be set on a copy of a slice from a DataFrame\n",
      "\n",
      "See the caveats in the documentation: http://pandas.pydata.org/pandas-docs/stable/indexing.html#indexing-view-versus-copy\n",
      "  self._update_inplace(new_data)\n"
     ]
    }
   ],
   "source": [
    "X['APR Risk of Mortality'].replace('Minor', 1, inplace=True)\n",
    "X['APR Risk of Mortality'].replace('Moderate', 2, inplace=True)\n",
    "X['APR Risk of Mortality'].replace('Major', 3, inplace=True)\n",
    "X['APR Risk of Mortality'].replace('Extreme', 4, inplace=True)"
   ]
  },
  {
   "cell_type": "code",
   "execution_count": 10,
   "metadata": {},
   "outputs": [],
   "source": [
    "X_ohe['APR Risk of Mortality'] = pd.Series(np.array(X['APR Risk of Mortality']), index=X_ohe.index)\n",
    "X_ohe['Total Costs'] = pd.Series(np.array(X['Total Costs']), index=X_ohe.index)\n",
    "X_ohe['Total Charges'] = pd.Series(np.array(X['Total Charges']), index=X_ohe.index)\n",
    "X_ohe['APR Severity of Illness Code'] = pd.Series(np.array(X['APR Severity of Illness Code']), index=X_ohe.index)"
   ]
  },
  {
   "cell_type": "code",
   "execution_count": 11,
   "metadata": {},
   "outputs": [],
   "source": [
    "X_ohe.fillna(0,inplace=True)"
   ]
  },
  {
   "cell_type": "code",
   "execution_count": 12,
   "metadata": {},
   "outputs": [],
   "source": [
    "X_ohe = X_ohe.values\n",
    "y = y.values"
   ]
  },
  {
   "cell_type": "code",
   "execution_count": 13,
   "metadata": {},
   "outputs": [],
   "source": [
    "X_train, X_test, y_train, y_test = train_test_split(X_ohe, y, test_size = 0.20)"
   ]
  },
  {
   "cell_type": "code",
   "execution_count": 14,
   "metadata": {},
   "outputs": [
    {
     "data": {
      "text/plain": [
       "(9386, 1184)"
      ]
     },
     "execution_count": 14,
     "metadata": {},
     "output_type": "execute_result"
    }
   ],
   "source": [
    "X_train.shape"
   ]
  },
  {
   "cell_type": "code",
   "execution_count": null,
   "metadata": {},
   "outputs": [
    {
     "name": "stderr",
     "output_type": "stream",
     "text": [
      "C:\\ProgramData\\Anaconda3\\lib\\site-packages\\sklearn\\svm\\base.py:196: FutureWarning: The default value of gamma will change from 'auto' to 'scale' in version 0.22 to account better for unscaled features. Set gamma explicitly to 'auto' or 'scale' to avoid this warning.\n",
      "  \"avoid this warning.\", FutureWarning)\n"
     ]
    }
   ],
   "source": [
    "Bestsvclassifier= SVC(kernel='rbf')\n",
    "Bestsvclassifier.fit(X_train, y_train)"
   ]
  },
  {
   "cell_type": "code",
   "execution_count": null,
   "metadata": {},
   "outputs": [],
   "source": [
    "print(np.mean(scores))"
   ]
  }
 ],
 "metadata": {
  "kernelspec": {
   "display_name": "Python 3",
   "language": "python",
   "name": "python3"
  },
  "language_info": {
   "codemirror_mode": {
    "name": "ipython",
    "version": 3
   },
   "file_extension": ".py",
   "mimetype": "text/x-python",
   "name": "python",
   "nbconvert_exporter": "python",
   "pygments_lexer": "ipython3",
   "version": "3.7.1"
  }
 },
 "nbformat": 4,
 "nbformat_minor": 2
}
